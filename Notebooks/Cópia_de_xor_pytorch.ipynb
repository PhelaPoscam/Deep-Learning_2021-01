{
 "cells": [
  {
   "cell_type": "markdown",
   "metadata": {
    "id": "PORERAf1TKrg"
   },
   "source": [
    "**Laboratório 1:** <br>\n",
    "Um exemplo de rede neural que aprende a tabela verdade do XOR utilizando regressão logística com a função de custo \"binary cross-entropy\" (Aula 3 - Slides 7 a 9)."
   ]
  },
  {
   "cell_type": "code",
   "execution_count": 1,
   "metadata": {
    "id": "0Fvu7q78MX-U"
   },
   "outputs": [],
   "source": [
    "import torch\n",
    "from torch.nn.functional import binary_cross_entropy\n",
    "\n",
    "torch.manual_seed(33); #Seed - Um número arbitrário"
   ]
  },
  {
   "cell_type": "markdown",
   "metadata": {
    "id": "a1zih6r8qaZu"
   },
   "source": [
    "Abaixo está a implementação de uma função que inicializa os \"weights\" e \"bias\" das camadas. No exemplo, os \"weights\" são calculados utilizando a função descrita [neste artigo](http://proceedings.mlr.press/v9/glorot10a/glorot10a.pdf?hc_location=ufi]). Já o \"bias\" estão sendo inicializados com um valor arbitrário."
   ]
  },
  {
   "cell_type": "code",
   "execution_count": 2,
   "metadata": {
    "id": "_Q64XfvZ86Hq"
   },
   "outputs": [],
   "source": [
    "def init_weights(m):\n",
    "    if type(m) == torch.nn.Linear:\n",
    "        torch.nn.init.xavier_uniform_(m.weight)\n",
    "        m.bias.data.fill_(0.01)"
   ]
  },
  {
   "cell_type": "code",
   "execution_count": 3,
   "metadata": {
    "colab": {
     "base_uri": "https://localhost:8080/"
    },
    "id": "Y8qkB6UW-0O_",
    "outputId": "ae78648c-be3c-43bd-f4b4-58395b6aa1aa"
   },
   "outputs": [
    {
     "name": "stdout",
     "output_type": "stream",
     "text": [
      "X  tensor([[0., 0.],\n",
      "        [0., 1.],\n",
      "        [1., 0.],\n",
      "        [1., 1.]])\n",
      "\n",
      "y  tensor([[0.],\n",
      "        [1.],\n",
      "        [1.],\n",
      "        [0.]])\n",
      "\n"
     ]
    }
   ],
   "source": [
    "X = torch.tensor([[0, 0],\n",
    "               [0, 1],\n",
    "               [1, 0],\n",
    "               [1, 1]], dtype=torch.float32)\n",
    "\n",
    "print(\"X \", X)\n",
    "print(\"\")\n",
    "\n",
    "y = torch.tensor([0, 1, 1, 0], dtype=torch.float32).reshape(X.shape[0], 1) #Reshape - Uma função que altera o 'shape', I.E. a disposições dos elementos de um tensor.\n",
    "print(\"y \", y)\n",
    "print(\"\")"
   ]
  },
  {
   "cell_type": "code",
   "execution_count": 4,
   "metadata": {
    "colab": {
     "base_uri": "https://localhost:8080/"
    },
    "id": "gebzAqVCMd4A",
    "outputId": "4e828379-b54f-453c-f3db-ad3d3a600c09"
   },
   "outputs": [
    {
     "name": "stdout",
     "output_type": "stream",
     "text": [
      "= Model =\n",
      "Sequential(\n",
      "  (0): Linear(in_features=2, out_features=2, bias=True)\n",
      "  (1): Sigmoid()\n",
      "  (2): Linear(in_features=2, out_features=1, bias=True)\n",
      "  (3): Sigmoid()\n",
      ")\n",
      "\n",
      "= Parameters =\n",
      "Parameter containing:\n",
      "tensor([[-0.6456, -0.3179],\n",
      "        [ 1.0210, -1.1431]], requires_grad=True)\n",
      "\n",
      "Parameter containing:\n",
      "tensor([0.0100, 0.0100], requires_grad=True)\n",
      "\n",
      "Parameter containing:\n",
      "tensor([[ 0.6173, -1.3222]], requires_grad=True)\n",
      "\n",
      "Parameter containing:\n",
      "tensor([0.0100], requires_grad=True)\n",
      "\n",
      "\n"
     ]
    }
   ],
   "source": [
    "model = torch.nn.Sequential(\n",
    "    torch.nn.Linear(2, 2),\n",
    "    torch.nn.Sigmoid(),\n",
    "    torch.nn.Linear(2, 1),\n",
    "    torch.nn.Sigmoid()\n",
    ")\n",
    "\n",
    "print(\"= Model =\")\n",
    "print(model)\n",
    "print(\"\")\n",
    "\n",
    "model.apply(init_weights)\n",
    "\n",
    "print(\"= Parameters =\")\n",
    "for param in model.parameters():\n",
    "    print(param)\n",
    "    print(\"\")\n",
    "print(\"\")\n",
    "\n",
    "optimizer = torch.optim.RMSprop(model.parameters(), lr = 0.03)\n",
    "\n",
    "torch.set_printoptions(precision=3, sci_mode=False)"
   ]
  },
  {
   "cell_type": "code",
   "execution_count": 5,
   "metadata": {
    "colab": {
     "base_uri": "https://localhost:8080/"
    },
    "id": "QhnXi8t3Ml0C",
    "outputId": "1cc6b294-517d-4b63-9966-e79650f963d1"
   },
   "outputs": [
    {
     "name": "stdout",
     "output_type": "stream",
     "text": [
      "Weights\n",
      "tensor([[ 4.902, -5.006],\n",
      "        [ 5.734, -5.341]])\n",
      "tensor([-2.698,  2.847])\n",
      "tensor([[ 5.407, -5.253]])\n",
      "tensor([2.469])\n",
      "\n",
      "Input -> Output\n",
      "tensor([0., 0.])  ->  tensor([0.104], grad_fn=<SigmoidBackward>)\n",
      "tensor([0., 1.])  ->  tensor([0.888], grad_fn=<SigmoidBackward>)\n",
      "tensor([1., 0.])  ->  tensor([0.890], grad_fn=<SigmoidBackward>)\n",
      "tensor([1., 1.])  ->  tensor([0.093], grad_fn=<SigmoidBackward>)\n"
     ]
    }
   ],
   "source": [
    "EPOCHS = 100\n",
    "\n",
    "for epoch in range(EPOCHS):\n",
    "  #forward\n",
    "  y_est = model(X)\n",
    "  \n",
    "  #compute mean squared error loss\n",
    "  loss = binary_cross_entropy(y_est, y)\n",
    "\n",
    "  #backprop the loss gradients\n",
    "  loss.backward()\n",
    "\n",
    "  #update the model weights using the gradients\n",
    "  optimizer.step()\n",
    "\n",
    "  #empty the gradients for the next iteration\n",
    "  optimizer.zero_grad()\n",
    "\n",
    "print(\"Weights\")\n",
    "for param in model.parameters():\n",
    "  print(param.data)\n",
    "print(\"\")\n",
    "\n",
    "print(\"Input -> Output\")\n",
    "for x in X:\n",
    "  print(x, \" -> \", model(x))"
   ]
  },
  {
   "cell_type": "code",
   "execution_count": null,
   "metadata": {},
   "outputs": [],
   "source": []
  }
 ],
 "metadata": {
  "accelerator": "GPU",
  "colab": {
   "collapsed_sections": [],
   "name": "Cópia de xor_pytorch.ipynb",
   "provenance": []
  },
  "kernelspec": {
   "display_name": "Python 3",
   "language": "python",
   "name": "python3"
  },
  "language_info": {
   "codemirror_mode": {
    "name": "ipython",
    "version": 3
   },
   "file_extension": ".py",
   "mimetype": "text/x-python",
   "name": "python",
   "nbconvert_exporter": "python",
   "pygments_lexer": "ipython3",
   "version": "3.8.5"
  }
 },
 "nbformat": 4,
 "nbformat_minor": 1
}
