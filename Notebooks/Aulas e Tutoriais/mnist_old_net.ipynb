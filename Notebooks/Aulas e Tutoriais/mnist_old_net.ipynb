{
  "nbformat": 4,
  "nbformat_minor": 0,
  "metadata": {
    "colab": {
      "name": "mnist_old_net.ipynb",
      "provenance": [],
      "collapsed_sections": [],
      "toc_visible": true
    },
    "kernelspec": {
      "name": "python3",
      "display_name": "Python 3"
    },
    "accelerator": "GPU"
  },
  "cells": [
    {
      "cell_type": "markdown",
      "metadata": {
        "id": "0nLV5Dk_kg8H"
      },
      "source": [
        "# MNIST Rede dos anos 1980 - 1990\n",
        "\n",
        "Dowload dataset:"
      ]
    },
    {
      "cell_type": "code",
      "metadata": {
        "colab": {
          "resources": {
            "http://localhost:8080/nbextensions/google.colab/files.js": {
              "data": "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",
              "ok": true,
              "headers": [
                [
                  "content-type",
                  "application/javascript"
                ]
              ],
              "status": 200,
              "status_text": ""
            }
          },
          "base_uri": "https://localhost:8080/",
          "height": 291
        },
        "id": "dmyaja4zjl4W",
        "outputId": "8cc0e471-d608-4b52-9ddd-d2d067f6c982"
      },
      "source": [
        "from google.colab import files\n",
        "import os\n",
        "\n",
        "if not os.path.isfile(\"MNIST.tgz\"):\n",
        "    uploaded = files.upload()\n",
        "\n",
        "!tar xzvf MNIST.tgz"
      ],
      "execution_count": null,
      "outputs": [
        {
          "output_type": "display_data",
          "data": {
            "text/html": [
              "\n",
              "     <input type=\"file\" id=\"files-5dc6b1b8-f92b-4430-aefe-1f061e78902c\" name=\"files[]\" multiple disabled\n",
              "        style=\"border:none\" />\n",
              "     <output id=\"result-5dc6b1b8-f92b-4430-aefe-1f061e78902c\">\n",
              "      Upload widget is only available when the cell has been executed in the\n",
              "      current browser session. Please rerun this cell to enable.\n",
              "      </output>\n",
              "      <script src=\"/nbextensions/google.colab/files.js\"></script> "
            ],
            "text/plain": [
              "<IPython.core.display.HTML object>"
            ]
          },
          "metadata": {
            "tags": []
          }
        },
        {
          "output_type": "stream",
          "text": [
            "Saving MNIST.tgz to MNIST.tgz\n",
            "MNIST/\n",
            "MNIST/processed/\n",
            "MNIST/processed/training.pt\n",
            "MNIST/processed/test.pt\n",
            "MNIST/raw/\n",
            "MNIST/raw/t10k-images-idx3-ubyte\n",
            "MNIST/raw/train-labels-idx1-ubyte\n",
            "MNIST/raw/t10k-images-idx3-ubyte.gz\n",
            "MNIST/raw/t10k-labels-idx1-ubyte\n",
            "MNIST/raw/t10k-labels-idx1-ubyte.gz\n",
            "MNIST/raw/train-images-idx3-ubyte.gz\n",
            "MNIST/raw/train-labels-idx1-ubyte.gz\n",
            "MNIST/raw/train-images-idx3-ubyte\n"
          ],
          "name": "stdout"
        }
      ]
    },
    {
      "cell_type": "code",
      "metadata": {
        "id": "jYMQpL3Nr7RZ"
      },
      "source": [
        "from __future__ import print_function\n",
        "import argparse\n",
        "import torch\n",
        "import torch.nn as nn\n",
        "import torch.nn.functional as F\n",
        "import torch.optim as optim\n",
        "import torchvision\n",
        "from torchvision import datasets, transforms\n",
        "from torch.optim.lr_scheduler import StepLR\n",
        "\n",
        "import matplotlib.pyplot as plt\n",
        "\n",
        "import sys\n",
        "sys.argv=['']\n",
        "del sys\n"
      ],
      "execution_count": null,
      "outputs": []
    },
    {
      "cell_type": "markdown",
      "metadata": {
        "id": "sjmfFAaAtE7o"
      },
      "source": [
        "# Rede - definição"
      ]
    },
    {
      "cell_type": "code",
      "metadata": {
        "id": "gZTWZfD09NAm"
      },
      "source": [
        "class Net(nn.Module):\n",
        "    def __init__(self):\n",
        "        super(Net, self).__init__()\n",
        "        self.net = nn.Sequential(\n",
        "            nn.Flatten(),\n",
        "            nn.Linear(784, 128),\n",
        "            nn.Sigmoid(),\n",
        "            nn.Linear(128, 10),\n",
        "            #nn.Sigmoid()),\n",
        "            nn.Softmax(dim=1))\n",
        "\n",
        "    def forward(self, x):\n",
        "        output = self.net(x)\n",
        "        return output"
      ],
      "execution_count": null,
      "outputs": []
    },
    {
      "cell_type": "code",
      "metadata": {
        "id": "IqNbD8aKug8F"
      },
      "source": [
        "def load_datasets(train_kwargs, test_kwargs, device):\n",
        "    transform=transforms.Compose([\n",
        "        transforms.ToTensor(),\n",
        "        transforms.Normalize((0.1307,), (0.3081,))\n",
        "        ])\n",
        "\n",
        "    num_classes = 10\n",
        "    one_hot_encode = lambda target: F.one_hot(torch.tensor(target), num_classes).float()\n",
        "\n",
        "    print(\"loading train dataset\")\n",
        "    trainset = datasets.MNIST('.', train=True, download=True, transform=transform, target_transform=one_hot_encode)\n",
        "    #trainset.data = trainset.data.to(device)\n",
        "    #trainset.targets = trainset.targets.to(device)\n",
        "\n",
        "    print(\"loading test dataset\")\n",
        "    testset = datasets.MNIST('.', train=False, download=True, transform=transform, target_transform=one_hot_encode)\n",
        "    #testset.data = testset.data.to(device)\n",
        "    #testset.targets = testset.targets.to(device)\n",
        "\n",
        "    print(\"train_loader\")\n",
        "    train_loader = torch.utils.data.DataLoader(trainset, **train_kwargs, shuffle=True)\n",
        "    print(\"test_loader\")\n",
        "    test_loader = torch.utils.data.DataLoader(testset, **test_kwargs, shuffle=True)\n",
        "    \n",
        "    # constant for classes\n",
        "    classes = ('zero', 'one', 'two', 'three', 'four',\n",
        "        'five', 'six', 'seven', 'eight', 'nine')\n",
        "\n",
        "    return train_loader, test_loader, trainset, testset, classes\n"
      ],
      "execution_count": null,
      "outputs": []
    },
    {
      "cell_type": "code",
      "metadata": {
        "colab": {
          "base_uri": "https://localhost:8080/"
        },
        "id": "Hw0LgDVpxgfn",
        "outputId": "6fa21fa1-6590-46c1-fad9-00b3edacf151"
      },
      "source": [
        "torch.manual_seed(13)\n",
        "\n",
        "#use_cuda = False\n",
        "use_cuda = True\n",
        "#use_cuda = not args.no_cuda and torch.cuda.is_available()\n",
        "device = torch.device(\"cuda\" if use_cuda else \"cpu\")\n",
        "print(\"Running in\", device)\n",
        "print(\"\")\n",
        "\n",
        "train_kwargs = {'batch_size': 100}\n",
        "test_kwargs = {'batch_size': 100}\n",
        "if use_cuda:\n",
        "    cuda_kwargs = {'num_workers': 0, 'pin_memory': True}\n",
        "    train_kwargs.update(cuda_kwargs)\n",
        "    test_kwargs.update(cuda_kwargs)\n",
        "\n",
        "train_loader, test_loader, trainset, testset, classes = load_datasets(train_kwargs, test_kwargs, device)\n",
        "\n",
        "model = Net().to(device)\n",
        "print(model)"
      ],
      "execution_count": null,
      "outputs": [
        {
          "output_type": "stream",
          "text": [
            "Running in cuda\n",
            "\n",
            "loading train dataset\n",
            "loading test dataset\n",
            "train_loader\n",
            "test_loader\n",
            "Net(\n",
            "  (net): Sequential(\n",
            "    (0): Flatten(start_dim=1, end_dim=-1)\n",
            "    (1): Linear(in_features=784, out_features=128, bias=True)\n",
            "    (2): Sigmoid()\n",
            "    (3): Linear(in_features=128, out_features=10, bias=True)\n",
            "    (4): Softmax(dim=1)\n",
            "  )\n",
            ")\n"
          ],
          "name": "stdout"
        }
      ]
    },
    {
      "cell_type": "code",
      "metadata": {
        "colab": {
          "base_uri": "https://localhost:8080/",
          "height": 316
        },
        "id": "A8iCe4O35J2d",
        "outputId": "0f4e7d30-8cea-4dbb-8085-7b3eaf5996a5"
      },
      "source": [
        "images, labels = next(iter(test_loader))\n",
        "plt.imshow(images[0].reshape(28,28), cmap=\"gray\")\n",
        "\n",
        "images, labels = images.to(device), labels.to(device)\n",
        "output = model(images)\n",
        "torch.set_printoptions(precision=3, sci_mode=False)\n",
        "print(output[0])\n",
        "pred = output.argmax(dim=1, keepdim=True)  # get the index of the max log-probability\n",
        "label = labels.argmax(dim=1, keepdim=True)  # get the index of the one-hot\n",
        "print(\"label =\", label[0], \"  predicao =\", pred[0])"
      ],
      "execution_count": null,
      "outputs": [
        {
          "output_type": "stream",
          "text": [
            "tensor([0.078, 0.092, 0.123, 0.111, 0.067, 0.052, 0.080, 0.128, 0.101, 0.165],\n",
            "       device='cuda:0', grad_fn=<SelectBackward>)\n",
            "label = tensor([1], device='cuda:0')   predicao = tensor([9], device='cuda:0')\n"
          ],
          "name": "stdout"
        },
        {
          "output_type": "display_data",
          "data": {
            "image/png": "[encoded data removed]",
            "text/plain": [
              "<Figure size 432x288 with 1 Axes>"
            ]
          },
          "metadata": {
            "tags": [],
            "needs_background": "light"
          }
        }
      ]
    },
    {
      "cell_type": "code",
      "metadata": {
        "id": "F4NjBhvsxD0Y"
      },
      "source": [
        "def init_weights(m):\n",
        "    if type(m) == nn.Linear:\n",
        "        torch.nn.init.xavier_uniform_(m.weight)\n",
        "        m.bias.data.fill_(0.01)\n",
        "\n",
        "model.apply(init_weights)\n",
        "optimizer = optim.Adam(model.parameters(), lr=0.01)\n",
        "scheduler = StepLR(optimizer, step_size=1, gamma=0.5)"
      ],
      "execution_count": null,
      "outputs": []
    },
    {
      "cell_type": "markdown",
      "metadata": {
        "id": "Rx8g5tErqWxw"
      },
      "source": [
        "# Trainando o modelo"
      ]
    },
    {
      "cell_type": "code",
      "metadata": {
        "id": "nIMN62ITscZC"
      },
      "source": [
        "def train(model, device, train_loader, optimizer, epoch):\n",
        "    running_loss = 0\n",
        "    batch_size = 100\n",
        "    model.train()\n",
        "    for batch_idx, (data, target) in enumerate(train_loader):\n",
        "        data, target = data.to(device), target.to(device)\n",
        "        optimizer.zero_grad()\n",
        "        output = model(data)\n",
        "        loss = F.mse_loss(output, target)\n",
        "        loss.backward()\n",
        "        optimizer.step()\n",
        "        running_loss += loss.item()\n",
        "        if batch_idx % 100 == 99:\n",
        "            print('Train Epoch: {} [{}/{} ({:.0f}%)]\\tLoss: {:.9f}'.format(\n",
        "                epoch, batch_idx * len(data), len(train_loader.dataset),\n",
        "                100. * batch_idx / len(train_loader), running_loss / (batch_idx * batch_size)))\n"
      ],
      "execution_count": null,
      "outputs": []
    },
    {
      "cell_type": "code",
      "metadata": {
        "id": "xxgTph0msgyh"
      },
      "source": [
        "def test(model, device, test_loader):\n",
        "    model.eval()\n",
        "    test_loss = 0\n",
        "    correct = 0\n",
        "    with torch.no_grad():\n",
        "        for data, target in test_loader:\n",
        "            data, target = data.to(device), target.to(device)\n",
        "            output = model(data)\n",
        "            loss = F.mse_loss(output, target)\n",
        "            test_loss += loss.item()\n",
        "            pred = output.argmax(dim=1, keepdim=True)  # get the index of the max log-probability\n",
        "            target_ = target.argmax(dim=1, keepdim=True)\n",
        "            correct += pred.eq(target_).sum().item()\n",
        "\n",
        "    print('\\nTest set: Average loss: {:.9f}, Accuracy: {}/{} ({:.4f}%)\\n'.format(\n",
        "        test_loss / len(test_loader.dataset), correct, len(test_loader.dataset),\n",
        "        100. * correct / len(test_loader.dataset)))\n"
      ],
      "execution_count": null,
      "outputs": []
    },
    {
      "cell_type": "code",
      "metadata": {
        "colab": {
          "base_uri": "https://localhost:8080/"
        },
        "id": "x1vw5ZAYpysj",
        "outputId": "9cc33261-37fb-4dd4-dc4b-1428896c75ec"
      },
      "source": [
        "for epoch in range(10):\n",
        "    train(model, device, train_loader, optimizer, epoch)\n",
        "    test(model, device, test_loader)\n",
        "    scheduler.step()\n",
        "\n",
        "torch.save(model.state_dict(), \"mnist_cnn.pt\")\n",
        "\n"
      ],
      "execution_count": null,
      "outputs": [
        {
          "output_type": "stream",
          "text": [
            "Train Epoch: 0 [9900/60000 (16%)]\tLoss: 0.000255437\n",
            "Train Epoch: 0 [19900/60000 (33%)]\tLoss: 0.000188938\n",
            "Train Epoch: 0 [29900/60000 (50%)]\tLoss: 0.000162211\n",
            "Train Epoch: 0 [39900/60000 (66%)]\tLoss: 0.000148316\n",
            "Train Epoch: 0 [49900/60000 (83%)]\tLoss: 0.000138569\n",
            "Train Epoch: 0 [59900/60000 (100%)]\tLoss: 0.000131218\n",
            "\n",
            "Test set: Average loss: 0.000080606, Accuracy: 9472/10000 (94.7200%)\n",
            "\n",
            "Train Epoch: 1 [9900/60000 (16%)]\tLoss: 0.000070696\n",
            "Train Epoch: 1 [19900/60000 (33%)]\tLoss: 0.000070204\n",
            "Train Epoch: 1 [29900/60000 (50%)]\tLoss: 0.000069244\n",
            "Train Epoch: 1 [39900/60000 (66%)]\tLoss: 0.000067993\n",
            "Train Epoch: 1 [49900/60000 (83%)]\tLoss: 0.000067970\n",
            "Train Epoch: 1 [59900/60000 (100%)]\tLoss: 0.000067582\n",
            "\n",
            "Test set: Average loss: 0.000069080, Accuracy: 9545/10000 (95.4500%)\n",
            "\n",
            "Train Epoch: 2 [9900/60000 (16%)]\tLoss: 0.000052005\n",
            "Train Epoch: 2 [19900/60000 (33%)]\tLoss: 0.000050407\n",
            "Train Epoch: 2 [29900/60000 (50%)]\tLoss: 0.000049821\n",
            "Train Epoch: 2 [39900/60000 (66%)]\tLoss: 0.000049256\n",
            "Train Epoch: 2 [49900/60000 (83%)]\tLoss: 0.000048826\n",
            "Train Epoch: 2 [59900/60000 (100%)]\tLoss: 0.000048664\n",
            "\n",
            "Test set: Average loss: 0.000053895, Accuracy: 9652/10000 (96.5200%)\n",
            "\n",
            "Train Epoch: 3 [9900/60000 (16%)]\tLoss: 0.000038563\n",
            "Train Epoch: 3 [19900/60000 (33%)]\tLoss: 0.000038127\n",
            "Train Epoch: 3 [29900/60000 (50%)]\tLoss: 0.000037941\n",
            "Train Epoch: 3 [39900/60000 (66%)]\tLoss: 0.000038009\n",
            "Train Epoch: 3 [49900/60000 (83%)]\tLoss: 0.000037558\n",
            "Train Epoch: 3 [59900/60000 (100%)]\tLoss: 0.000037524\n",
            "\n",
            "Test set: Average loss: 0.000048332, Accuracy: 9689/10000 (96.8900%)\n",
            "\n",
            "Train Epoch: 4 [9900/60000 (16%)]\tLoss: 0.000032614\n",
            "Train Epoch: 4 [19900/60000 (33%)]\tLoss: 0.000032638\n",
            "Train Epoch: 4 [29900/60000 (50%)]\tLoss: 0.000032291\n",
            "Train Epoch: 4 [39900/60000 (66%)]\tLoss: 0.000031320\n",
            "Train Epoch: 4 [49900/60000 (83%)]\tLoss: 0.000031148\n",
            "Train Epoch: 4 [59900/60000 (100%)]\tLoss: 0.000031044\n",
            "\n",
            "Test set: Average loss: 0.000047060, Accuracy: 9691/10000 (96.9100%)\n",
            "\n",
            "Train Epoch: 5 [9900/60000 (16%)]\tLoss: 0.000026687\n",
            "Train Epoch: 5 [19900/60000 (33%)]\tLoss: 0.000026805\n",
            "Train Epoch: 5 [29900/60000 (50%)]\tLoss: 0.000027389\n",
            "Train Epoch: 5 [39900/60000 (66%)]\tLoss: 0.000026641\n",
            "Train Epoch: 5 [49900/60000 (83%)]\tLoss: 0.000026947\n",
            "Train Epoch: 5 [59900/60000 (100%)]\tLoss: 0.000027400\n",
            "\n",
            "Test set: Average loss: 0.000046692, Accuracy: 9698/10000 (96.9800%)\n",
            "\n",
            "Train Epoch: 6 [9900/60000 (16%)]\tLoss: 0.000025696\n",
            "Train Epoch: 6 [19900/60000 (33%)]\tLoss: 0.000024888\n",
            "Train Epoch: 6 [29900/60000 (50%)]\tLoss: 0.000024721\n",
            "Train Epoch: 6 [39900/60000 (66%)]\tLoss: 0.000024648\n",
            "Train Epoch: 6 [49900/60000 (83%)]\tLoss: 0.000025315\n",
            "Train Epoch: 6 [59900/60000 (100%)]\tLoss: 0.000025728\n",
            "\n",
            "Test set: Average loss: 0.000046271, Accuracy: 9701/10000 (97.0100%)\n",
            "\n",
            "Train Epoch: 7 [9900/60000 (16%)]\tLoss: 0.000024639\n",
            "Train Epoch: 7 [19900/60000 (33%)]\tLoss: 0.000024493\n",
            "Train Epoch: 7 [29900/60000 (50%)]\tLoss: 0.000024097\n",
            "Train Epoch: 7 [39900/60000 (66%)]\tLoss: 0.000024527\n",
            "Train Epoch: 7 [49900/60000 (83%)]\tLoss: 0.000024738\n",
            "Train Epoch: 7 [59900/60000 (100%)]\tLoss: 0.000024892\n",
            "\n",
            "Test set: Average loss: 0.000046349, Accuracy: 9699/10000 (96.9900%)\n",
            "\n",
            "Train Epoch: 8 [9900/60000 (16%)]\tLoss: 0.000028737\n",
            "Train Epoch: 8 [19900/60000 (33%)]\tLoss: 0.000025994\n",
            "Train Epoch: 8 [29900/60000 (50%)]\tLoss: 0.000025805\n",
            "Train Epoch: 8 [39900/60000 (66%)]\tLoss: 0.000025036\n",
            "Train Epoch: 8 [49900/60000 (83%)]\tLoss: 0.000024382\n",
            "Train Epoch: 8 [59900/60000 (100%)]\tLoss: 0.000024453\n",
            "\n",
            "Test set: Average loss: 0.000046268, Accuracy: 9698/10000 (96.9800%)\n",
            "\n",
            "Train Epoch: 9 [9900/60000 (16%)]\tLoss: 0.000024689\n",
            "Train Epoch: 9 [19900/60000 (33%)]\tLoss: 0.000024022\n",
            "Train Epoch: 9 [29900/60000 (50%)]\tLoss: 0.000023736\n",
            "Train Epoch: 9 [39900/60000 (66%)]\tLoss: 0.000023770\n",
            "Train Epoch: 9 [49900/60000 (83%)]\tLoss: 0.000024308\n",
            "Train Epoch: 9 [59900/60000 (100%)]\tLoss: 0.000024227\n",
            "\n",
            "Test set: Average loss: 0.000046190, Accuracy: 9697/10000 (96.9700%)\n",
            "\n"
          ],
          "name": "stdout"
        }
      ]
    },
    {
      "cell_type": "code",
      "metadata": {
        "id": "Q1QvAl1YGez9",
        "colab": {
          "base_uri": "https://localhost:8080/",
          "height": 337
        },
        "outputId": "ed36a62b-4f03-4f9f-cb46-19161024be8c"
      },
      "source": [
        "images, labels = next(iter(test_loader))\n",
        "plt.imshow(images[0].reshape(28,28), cmap=\"gray\")\n",
        "\n",
        "images, labels = images.to(device), labels.to(device)\n",
        "output = model(images)\n",
        "torch.set_printoptions(precision=3, sci_mode=False)\n",
        "print(output[0])\n",
        "pred = output.argmax(dim=1, keepdim=True)  # get the index of the max log-probability\n",
        "label = labels.argmax(dim=1, keepdim=True)  # get the index of the one-hot\n",
        "print(\"label =\", label[0], \"  predicao =\", pred[0])"
      ],
      "execution_count": null,
      "outputs": [
        {
          "output_type": "stream",
          "text": [
            "tensor([    0.000,     0.000,     0.026,     0.000,     0.000,     0.000,\n",
            "            0.000,     0.955,     0.016,     0.002], device='cuda:0',\n",
            "       grad_fn=<SelectBackward>)\n",
            "label = tensor([2], device='cuda:0')   predicao = tensor([7], device='cuda:0')\n"
          ],
          "name": "stdout"
        },
        {
          "output_type": "display_data",
          "data": {
            "image/png": "[encoded data removed]",
            "text/plain": [
              "<Figure size 432x288 with 1 Axes>"
            ]
          },
          "metadata": {
            "tags": [],
            "needs_background": "light"
          }
        }
      ]
    }
  ]
}