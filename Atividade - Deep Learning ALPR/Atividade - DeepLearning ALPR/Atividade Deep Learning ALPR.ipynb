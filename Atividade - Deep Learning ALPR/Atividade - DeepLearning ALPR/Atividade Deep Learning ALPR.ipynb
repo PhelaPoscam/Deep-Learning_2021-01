{
 "cells": [
  {
   "cell_type": "code",
   "execution_count": 2,
   "metadata": {
    "scrolled": false
   },
   "outputs": [
    {
     "name": "stdout",
     "output_type": "stream",
     "text": [
      "Requirement already satisfied: easyocr in c:\\users\\fox_h\\anaconda3\\lib\\site-packages (1.3.0.1)\n",
      "Requirement already satisfied: PyYAML in c:\\users\\fox_h\\anaconda3\\lib\\site-packages (from easyocr) (5.3.1)\n",
      "Requirement already satisfied: scipy in c:\\users\\fox_h\\anaconda3\\lib\\site-packages (from easyocr) (1.5.2)\n",
      "Requirement already satisfied: torch in c:\\users\\fox_h\\anaconda3\\lib\\site-packages (from easyocr) (1.8.0)\n",
      "Requirement already satisfied: torchvision>=0.5 in c:\\users\\fox_h\\anaconda3\\lib\\site-packages (from easyocr) (0.9.1)\n",
      "Requirement already satisfied: Pillow in c:\\users\\fox_h\\anaconda3\\lib\\site-packages (from easyocr) (8.0.1)\n",
      "Requirement already satisfied: python-bidi in c:\\users\\fox_h\\anaconda3\\lib\\site-packages (from easyocr) (0.4.2)\n",
      "Requirement already satisfied: opencv-python in c:\\users\\fox_h\\anaconda3\\lib\\site-packages (from easyocr) (4.5.1.48)\n",
      "Requirement already satisfied: scikit-image in c:\\users\\fox_h\\anaconda3\\lib\\site-packages (from easyocr) (0.17.2)\n",
      "Requirement already satisfied: numpy in c:\\users\\fox_h\\anaconda3\\lib\\site-packages (from easyocr) (1.19.2)\n",
      "Requirement already satisfied: typing-extensions in c:\\users\\fox_h\\anaconda3\\lib\\site-packages (from torch->easyocr) (3.7.4.3)\n",
      "Requirement already satisfied: six in c:\\users\\fox_h\\anaconda3\\lib\\site-packages (from python-bidi->easyocr) (1.15.0)\n",
      "Requirement already satisfied: matplotlib!=3.0.0,>=2.0.0 in c:\\users\\fox_h\\anaconda3\\lib\\site-packages (from scikit-image->easyocr) (3.3.2)\n",
      "Requirement already satisfied: networkx>=2.0 in c:\\users\\fox_h\\anaconda3\\lib\\site-packages (from scikit-image->easyocr) (2.3)\n",
      "Requirement already satisfied: imageio>=2.3.0 in c:\\users\\fox_h\\anaconda3\\lib\\site-packages (from scikit-image->easyocr) (2.9.0)\n",
      "Requirement already satisfied: tifffile>=2019.7.26 in c:\\users\\fox_h\\anaconda3\\lib\\site-packages (from scikit-image->easyocr) (2020.10.1)\n",
      "Requirement already satisfied: PyWavelets>=1.1.1 in c:\\users\\fox_h\\anaconda3\\lib\\site-packages (from scikit-image->easyocr) (1.1.1)\n",
      "Requirement already satisfied: cycler>=0.10 in c:\\users\\fox_h\\anaconda3\\lib\\site-packages (from matplotlib!=3.0.0,>=2.0.0->scikit-image->easyocr) (0.10.0)\n",
      "Requirement already satisfied: python-dateutil>=2.1 in c:\\users\\fox_h\\anaconda3\\lib\\site-packages (from matplotlib!=3.0.0,>=2.0.0->scikit-image->easyocr) (2.8.1)\n",
      "Requirement already satisfied: kiwisolver>=1.0.1 in c:\\users\\fox_h\\anaconda3\\lib\\site-packages (from matplotlib!=3.0.0,>=2.0.0->scikit-image->easyocr) (1.3.0)\n",
      "Requirement already satisfied: pyparsing!=2.0.4,!=2.1.2,!=2.1.6,>=2.0.3 in c:\\users\\fox_h\\anaconda3\\lib\\site-packages (from matplotlib!=3.0.0,>=2.0.0->scikit-image->easyocr) (2.4.7)\n",
      "Requirement already satisfied: certifi>=2020.06.20 in c:\\users\\fox_h\\anaconda3\\lib\\site-packages (from matplotlib!=3.0.0,>=2.0.0->scikit-image->easyocr) (2020.6.20)\n",
      "Requirement already satisfied: decorator>=4.3.0 in c:\\users\\fox_h\\anaconda3\\lib\\site-packages (from networkx>=2.0->scikit-image->easyocr) (4.4.2)\n",
      "Requirement already satisfied: imutils in c:\\users\\fox_h\\anaconda3\\lib\\site-packages (0.5.4)\n",
      "Looking in links: https://download.pytorch.org/whl/torch_stable.html\n",
      "Collecting torch==1.8.1+cpu\n",
      "  Downloading https://download.pytorch.org/whl/cpu/torch-1.8.1%2Bcpu-cp38-cp38-win_amd64.whl (190.5 MB)\n",
      "Collecting torchvision==0.9.1+cpu\n",
      "  Downloading https://download.pytorch.org/whl/cpu/torchvision-0.9.1%2Bcpu-cp38-cp38-win_amd64.whl (845 kB)\n",
      "Collecting torchaudio===0.8.1\n",
      "  Downloading torchaudio-0.8.1-cp38-none-win_amd64.whl (109 kB)\n",
      "Requirement already satisfied: typing-extensions in c:\\users\\fox_h\\anaconda3\\lib\\site-packages (from torch==1.8.1+cpu) (3.7.4.3)\n",
      "Requirement already satisfied: numpy in c:\\users\\fox_h\\anaconda3\\lib\\site-packages (from torch==1.8.1+cpu) (1.19.2)\n",
      "Requirement already satisfied: pillow>=4.1.1 in c:\\users\\fox_h\\anaconda3\\lib\\site-packages (from torchvision==0.9.1+cpu) (8.0.1)\n",
      "Installing collected packages: torch, torchvision, torchaudio\n",
      "  Attempting uninstall: torch\n",
      "    Found existing installation: torch 1.8.0\n",
      "    Uninstalling torch-1.8.0:\n",
      "      Successfully uninstalled torch-1.8.0\n",
      "  Attempting uninstall: torchvision\n",
      "    Found existing installation: torchvision 0.9.1\n",
      "    Uninstalling torchvision-0.9.1:\n",
      "      Successfully uninstalled torchvision-0.9.1\n",
      "Successfully installed torch-1.8.1+cpu torchaudio-0.8.1 torchvision-0.9.1+cpu\n"
     ]
    }
   ],
   "source": [
    "!pip install easyocr\n",
    "!pip install imutils\n",
    "!pip3 install torch==1.8.1+cpu torchvision==0.9.1+cpu torchaudio===0.8.1 -f https://download.pytorch.org/whl/torch_stable.html"
   ]
  },
  {
   "cell_type": "code",
   "execution_count": null,
   "metadata": {},
   "outputs": [],
   "source": [
    "import cv2\n",
    "import easyocr\n",
    "import imutils\n",
    "from matplotlib import pyplot as plt\n",
    "import numpy as np"
   ]
  },
  {
   "cell_type": "code",
   "execution_count": null,
   "metadata": {},
   "outputs": [],
   "source": []
  }
 ],
 "metadata": {
  "kernelspec": {
   "display_name": "Python 3",
   "language": "python",
   "name": "python3"
  },
  "language_info": {
   "codemirror_mode": {
    "name": "ipython",
    "version": 3
   },
   "file_extension": ".py",
   "mimetype": "text/x-python",
   "name": "python",
   "nbconvert_exporter": "python",
   "pygments_lexer": "ipython3",
   "version": "3.8.5"
  }
 },
 "nbformat": 4,
 "nbformat_minor": 4
}
